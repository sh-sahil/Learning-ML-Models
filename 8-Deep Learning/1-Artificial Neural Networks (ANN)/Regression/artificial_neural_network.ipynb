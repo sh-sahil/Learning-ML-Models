{
  "cells": [
    {
      "cell_type": "markdown",
      "metadata": {
        "colab_type": "text",
        "id": "3cbb7fRy-eyr"
      },
      "source": [
        "# Artificial Neural Network"
      ]
    },
    {
      "cell_type": "markdown",
      "metadata": {
        "colab_type": "text",
        "id": "8sNDnxE2-pwE"
      },
      "source": [
        "### Importing the libraries"
      ]
    },
    {
      "cell_type": "code",
      "execution_count": 1,
      "metadata": {},
      "outputs": [
        {
          "name": "stdout",
          "output_type": "stream",
          "text": [
            "WARNING:tensorflow:From C:\\Users\\sahil\\AppData\\Roaming\\Python\\Python311\\site-packages\\tf_keras\\src\\losses.py:2976: The name tf.losses.sparse_softmax_cross_entropy is deprecated. Please use tf.compat.v1.losses.sparse_softmax_cross_entropy instead.\n",
            "\n"
          ]
        }
      ],
      "source": [
        "import pandas as pd\n",
        "import numpy as np\n",
        "import tensorflow as tf"
      ]
    },
    {
      "cell_type": "code",
      "execution_count": 2,
      "metadata": {},
      "outputs": [
        {
          "data": {
            "text/plain": [
              "'2.16.1'"
            ]
          },
          "execution_count": 2,
          "metadata": {},
          "output_type": "execute_result"
        }
      ],
      "source": [
        "tf.__version__"
      ]
    },
    {
      "cell_type": "markdown",
      "metadata": {
        "colab_type": "text",
        "id": "AG3FQEch-yuA"
      },
      "source": [
        "## Part 1 - Data Preprocessing"
      ]
    },
    {
      "cell_type": "markdown",
      "metadata": {
        "colab_type": "text",
        "id": "-4zq8Mza_D9O"
      },
      "source": [
        "### Importing the dataset"
      ]
    },
    {
      "cell_type": "code",
      "execution_count": 3,
      "metadata": {},
      "outputs": [],
      "source": [
        "dataset = pd.read_excel('Folds5x2_pp.xlsx')\n",
        "X = dataset.iloc[:, : -1].values\n",
        "y = dataset.iloc[:, -1].values"
      ]
    },
    {
      "cell_type": "code",
      "execution_count": 4,
      "metadata": {},
      "outputs": [
        {
          "name": "stdout",
          "output_type": "stream",
          "text": [
            "[[  14.96   41.76 1024.07   73.17]\n",
            " [  25.18   62.96 1020.04   59.08]\n",
            " [   5.11   39.4  1012.16   92.14]\n",
            " ...\n",
            " [  31.32   74.33 1012.92   36.48]\n",
            " [  24.48   69.45 1013.86   62.39]\n",
            " [  21.6    62.52 1017.23   67.87]]\n",
            "[463.26 444.37 488.56 ... 429.57 435.74 453.28]\n"
          ]
        }
      ],
      "source": [
        "print(X)\n",
        "print(y)"
      ]
    },
    {
      "cell_type": "markdown",
      "metadata": {
        "colab_type": "text",
        "id": "VC6omXel_Up0"
      },
      "source": [
        "### Splitting the dataset into the Training set and Test set"
      ]
    },
    {
      "cell_type": "code",
      "execution_count": 5,
      "metadata": {},
      "outputs": [],
      "source": [
        "from sklearn.model_selection import train_test_split\n",
        "X_train, X_test, y_train, y_test = train_test_split(X, y, test_size=0.2, random_state=42)"
      ]
    },
    {
      "cell_type": "code",
      "execution_count": 6,
      "metadata": {},
      "outputs": [],
      "source": [
        "y_train = y_train.reshape(len(y_train),1)"
      ]
    },
    {
      "cell_type": "code",
      "execution_count": 7,
      "metadata": {},
      "outputs": [],
      "source": [
        "y_test = y_test.reshape(len(y_test),1)"
      ]
    },
    {
      "cell_type": "markdown",
      "metadata": {},
      "source": [
        "### Feature Sacling"
      ]
    },
    {
      "cell_type": "code",
      "execution_count": 10,
      "metadata": {},
      "outputs": [],
      "source": [
        "from sklearn.preprocessing import StandardScaler\n",
        "sc = StandardScaler()\n",
        "sc2 = StandardScaler()\n",
        "X_train = sc.fit_transform(X_train)\n",
        "X_test = sc.transform(X_test)\n",
        "y_train = sc2.fit_transform(y_train)\n",
        "y_test = sc2.transform(y_test)"
      ]
    },
    {
      "cell_type": "markdown",
      "metadata": {
        "colab_type": "text",
        "id": "_mSLlAT9_eyI"
      },
      "source": [
        "## Part 2 - Building the ANN"
      ]
    },
    {
      "cell_type": "markdown",
      "metadata": {
        "colab_type": "text",
        "id": "CsBULd_f_wLY"
      },
      "source": [
        "### Initializing the ANN"
      ]
    },
    {
      "cell_type": "code",
      "execution_count": 12,
      "metadata": {},
      "outputs": [
        {
          "name": "stdout",
          "output_type": "stream",
          "text": [
            "WARNING:tensorflow:From C:\\Users\\sahil\\AppData\\Roaming\\Python\\Python311\\site-packages\\tf_keras\\src\\backend.py:873: The name tf.get_default_graph is deprecated. Please use tf.compat.v1.get_default_graph instead.\n",
            "\n"
          ]
        }
      ],
      "source": [
        "ann = tf.keras.models.Sequential()"
      ]
    },
    {
      "cell_type": "markdown",
      "metadata": {
        "colab_type": "text",
        "id": "iitAFJS_ABUn"
      },
      "source": [
        "### Adding the input layer and the first hidden layer"
      ]
    },
    {
      "cell_type": "code",
      "execution_count": 13,
      "metadata": {},
      "outputs": [],
      "source": [
        "ann.add(tf.keras.layers.Dense(units = 6, activation = 'relu'))"
      ]
    },
    {
      "cell_type": "markdown",
      "metadata": {
        "colab_type": "text",
        "id": "-lb4kK_wAKbs"
      },
      "source": [
        "### Adding the second hidden layer"
      ]
    },
    {
      "cell_type": "code",
      "execution_count": 14,
      "metadata": {},
      "outputs": [],
      "source": [
        "ann.add(tf.keras.layers.Dense(units = 6, activation = 'relu'))"
      ]
    },
    {
      "cell_type": "markdown",
      "metadata": {
        "colab_type": "text",
        "id": "jwMOmKb3AdBY"
      },
      "source": [
        "### Adding the output layer"
      ]
    },
    {
      "cell_type": "code",
      "execution_count": 15,
      "metadata": {},
      "outputs": [],
      "source": [
        "ann.add(tf.keras.layers.Dense(units = 1))"
      ]
    },
    {
      "cell_type": "markdown",
      "metadata": {
        "colab_type": "text",
        "id": "fq7e4fF6A1yy"
      },
      "source": [
        "## Part 3 - Training the ANN"
      ]
    },
    {
      "cell_type": "markdown",
      "metadata": {
        "colab_type": "text",
        "id": "qDeylAs2An25"
      },
      "source": [
        "### Compiling the ANN"
      ]
    },
    {
      "cell_type": "code",
      "execution_count": 16,
      "metadata": {},
      "outputs": [
        {
          "name": "stdout",
          "output_type": "stream",
          "text": [
            "WARNING:tensorflow:From C:\\Users\\sahil\\AppData\\Roaming\\Python\\Python311\\site-packages\\tf_keras\\src\\optimizers\\__init__.py:317: The name tf.train.Optimizer is deprecated. Please use tf.compat.v1.train.Optimizer instead.\n",
            "\n"
          ]
        }
      ],
      "source": [
        "ann.compile(optimizer = 'adam' , loss = 'mean_squared_error')"
      ]
    },
    {
      "cell_type": "markdown",
      "metadata": {
        "colab_type": "text",
        "id": "YjVuiybYOo7r"
      },
      "source": [
        "### Training the ANN model on the Training set"
      ]
    },
    {
      "cell_type": "code",
      "execution_count": 17,
      "metadata": {},
      "outputs": [
        {
          "name": "stdout",
          "output_type": "stream",
          "text": [
            "Epoch 1/100\n",
            "WARNING:tensorflow:From C:\\Users\\sahil\\AppData\\Roaming\\Python\\Python311\\site-packages\\tensorflow\\python\\autograph\\converters\\directives.py:126: The name tf.ragged.RaggedTensorValue is deprecated. Please use tf.compat.v1.ragged.RaggedTensorValue instead.\n",
            "\n",
            "240/240 [==============================] - 27s 2ms/step - loss: 0.6528\n",
            "Epoch 2/100\n",
            "240/240 [==============================] - 1s 2ms/step - loss: 0.2936\n",
            "Epoch 3/100\n",
            "240/240 [==============================] - 1s 3ms/step - loss: 0.2017\n",
            "Epoch 4/100\n",
            "240/240 [==============================] - 1s 3ms/step - loss: 0.1559\n",
            "Epoch 5/100\n",
            "240/240 [==============================] - 1s 3ms/step - loss: 0.1287\n",
            "Epoch 6/100\n",
            "240/240 [==============================] - 1s 3ms/step - loss: 0.1102\n",
            "Epoch 7/100\n",
            "240/240 [==============================] - 1s 3ms/step - loss: 0.0976\n",
            "Epoch 8/100\n",
            "240/240 [==============================] - 1s 3ms/step - loss: 0.0874\n",
            "Epoch 9/100\n",
            "240/240 [==============================] - 1s 2ms/step - loss: 0.0801\n",
            "Epoch 10/100\n",
            "240/240 [==============================] - 1s 3ms/step - loss: 0.0743\n",
            "Epoch 11/100\n",
            "240/240 [==============================] - 1s 3ms/step - loss: 0.0706\n",
            "Epoch 12/100\n",
            "240/240 [==============================] - 1s 3ms/step - loss: 0.0677\n",
            "Epoch 13/100\n",
            "240/240 [==============================] - 1s 3ms/step - loss: 0.0655\n",
            "Epoch 14/100\n",
            "240/240 [==============================] - 1s 3ms/step - loss: 0.0638\n",
            "Epoch 15/100\n",
            "240/240 [==============================] - 1s 3ms/step - loss: 0.0626\n",
            "Epoch 16/100\n",
            "240/240 [==============================] - 1s 3ms/step - loss: 0.0616\n",
            "Epoch 17/100\n",
            "240/240 [==============================] - 1s 3ms/step - loss: 0.0613\n",
            "Epoch 18/100\n",
            "240/240 [==============================] - 1s 3ms/step - loss: 0.0611\n",
            "Epoch 19/100\n",
            "240/240 [==============================] - 1s 3ms/step - loss: 0.0606\n",
            "Epoch 20/100\n",
            "240/240 [==============================] - 1s 3ms/step - loss: 0.0607\n",
            "Epoch 21/100\n",
            "240/240 [==============================] - 1s 3ms/step - loss: 0.0605\n",
            "Epoch 22/100\n",
            "240/240 [==============================] - 1s 3ms/step - loss: 0.0607\n",
            "Epoch 23/100\n",
            "240/240 [==============================] - 1s 3ms/step - loss: 0.0604\n",
            "Epoch 24/100\n",
            "240/240 [==============================] - 1s 3ms/step - loss: 0.0603\n",
            "Epoch 25/100\n",
            "240/240 [==============================] - 1s 3ms/step - loss: 0.0604\n",
            "Epoch 26/100\n",
            "240/240 [==============================] - 1s 3ms/step - loss: 0.0603\n",
            "Epoch 27/100\n",
            "240/240 [==============================] - 1s 3ms/step - loss: 0.0603\n",
            "Epoch 28/100\n",
            "240/240 [==============================] - 1s 3ms/step - loss: 0.0601\n",
            "Epoch 29/100\n",
            "240/240 [==============================] - 1s 3ms/step - loss: 0.0607\n",
            "Epoch 30/100\n",
            "240/240 [==============================] - 1s 3ms/step - loss: 0.0602\n",
            "Epoch 31/100\n",
            "240/240 [==============================] - 1s 3ms/step - loss: 0.0602\n",
            "Epoch 32/100\n",
            "240/240 [==============================] - 1s 3ms/step - loss: 0.0600\n",
            "Epoch 33/100\n",
            "240/240 [==============================] - 1s 3ms/step - loss: 0.0601\n",
            "Epoch 34/100\n",
            "240/240 [==============================] - 1s 3ms/step - loss: 0.0600\n",
            "Epoch 35/100\n",
            "240/240 [==============================] - 0s 2ms/step - loss: 0.0601\n",
            "Epoch 36/100\n",
            "240/240 [==============================] - 1s 3ms/step - loss: 0.0600\n",
            "Epoch 37/100\n",
            "240/240 [==============================] - 1s 3ms/step - loss: 0.0597\n",
            "Epoch 38/100\n",
            "240/240 [==============================] - 1s 3ms/step - loss: 0.0598\n",
            "Epoch 39/100\n",
            "240/240 [==============================] - 1s 3ms/step - loss: 0.0596\n",
            "Epoch 40/100\n",
            "240/240 [==============================] - 1s 3ms/step - loss: 0.0599\n",
            "Epoch 41/100\n",
            "240/240 [==============================] - 1s 3ms/step - loss: 0.0597\n",
            "Epoch 42/100\n",
            "240/240 [==============================] - 1s 3ms/step - loss: 0.0596\n",
            "Epoch 43/100\n",
            "240/240 [==============================] - 1s 3ms/step - loss: 0.0597\n",
            "Epoch 44/100\n",
            "240/240 [==============================] - 1s 3ms/step - loss: 0.0596\n",
            "Epoch 45/100\n",
            "240/240 [==============================] - 1s 3ms/step - loss: 0.0597\n",
            "Epoch 46/100\n",
            "240/240 [==============================] - 1s 3ms/step - loss: 0.0594\n",
            "Epoch 47/100\n",
            "240/240 [==============================] - 1s 2ms/step - loss: 0.0596\n",
            "Epoch 48/100\n",
            "240/240 [==============================] - 1s 3ms/step - loss: 0.0594\n",
            "Epoch 49/100\n",
            "240/240 [==============================] - 1s 3ms/step - loss: 0.0594\n",
            "Epoch 50/100\n",
            "240/240 [==============================] - 1s 3ms/step - loss: 0.0594\n",
            "Epoch 51/100\n",
            "240/240 [==============================] - 1s 3ms/step - loss: 0.0596\n",
            "Epoch 52/100\n",
            "240/240 [==============================] - 1s 3ms/step - loss: 0.0594\n",
            "Epoch 53/100\n",
            "240/240 [==============================] - 1s 3ms/step - loss: 0.0596\n",
            "Epoch 54/100\n",
            "240/240 [==============================] - 1s 3ms/step - loss: 0.0594\n",
            "Epoch 55/100\n",
            "240/240 [==============================] - 1s 3ms/step - loss: 0.0594\n",
            "Epoch 56/100\n",
            "240/240 [==============================] - 1s 3ms/step - loss: 0.0593\n",
            "Epoch 57/100\n",
            "240/240 [==============================] - 1s 3ms/step - loss: 0.0593\n",
            "Epoch 58/100\n",
            "240/240 [==============================] - 1s 3ms/step - loss: 0.0594\n",
            "Epoch 59/100\n",
            "240/240 [==============================] - 1s 3ms/step - loss: 0.0593\n",
            "Epoch 60/100\n",
            "240/240 [==============================] - 1s 3ms/step - loss: 0.0594\n",
            "Epoch 61/100\n",
            "240/240 [==============================] - 1s 3ms/step - loss: 0.0591\n",
            "Epoch 62/100\n",
            "240/240 [==============================] - 1s 3ms/step - loss: 0.0594\n",
            "Epoch 63/100\n",
            "240/240 [==============================] - 1s 3ms/step - loss: 0.0592\n",
            "Epoch 64/100\n",
            "240/240 [==============================] - 1s 3ms/step - loss: 0.0594\n",
            "Epoch 65/100\n",
            "240/240 [==============================] - 1s 3ms/step - loss: 0.0593\n",
            "Epoch 66/100\n",
            "240/240 [==============================] - 1s 3ms/step - loss: 0.0594\n",
            "Epoch 67/100\n",
            "240/240 [==============================] - 1s 3ms/step - loss: 0.0593\n",
            "Epoch 68/100\n",
            "240/240 [==============================] - 1s 3ms/step - loss: 0.0593\n",
            "Epoch 69/100\n",
            "240/240 [==============================] - 1s 3ms/step - loss: 0.0593\n",
            "Epoch 70/100\n",
            "240/240 [==============================] - 0s 2ms/step - loss: 0.0592\n",
            "Epoch 71/100\n",
            "240/240 [==============================] - 1s 3ms/step - loss: 0.0590\n",
            "Epoch 72/100\n",
            "240/240 [==============================] - 1s 3ms/step - loss: 0.0593\n",
            "Epoch 73/100\n",
            "240/240 [==============================] - 1s 3ms/step - loss: 0.0590\n",
            "Epoch 74/100\n",
            "240/240 [==============================] - 1s 3ms/step - loss: 0.0591\n",
            "Epoch 75/100\n",
            "240/240 [==============================] - 1s 3ms/step - loss: 0.0591\n",
            "Epoch 76/100\n",
            "240/240 [==============================] - 1s 3ms/step - loss: 0.0591\n",
            "Epoch 77/100\n",
            "240/240 [==============================] - 1s 3ms/step - loss: 0.0592\n",
            "Epoch 78/100\n",
            "240/240 [==============================] - 1s 3ms/step - loss: 0.0592\n",
            "Epoch 79/100\n",
            "240/240 [==============================] - 1s 3ms/step - loss: 0.0594\n",
            "Epoch 80/100\n",
            "240/240 [==============================] - 1s 3ms/step - loss: 0.0592\n",
            "Epoch 81/100\n",
            "240/240 [==============================] - 1s 3ms/step - loss: 0.0593\n",
            "Epoch 82/100\n",
            "240/240 [==============================] - 1s 3ms/step - loss: 0.0593\n",
            "Epoch 83/100\n",
            "240/240 [==============================] - 1s 3ms/step - loss: 0.0589\n",
            "Epoch 84/100\n",
            "240/240 [==============================] - 1s 3ms/step - loss: 0.0591\n",
            "Epoch 85/100\n",
            "240/240 [==============================] - 1s 3ms/step - loss: 0.0591\n",
            "Epoch 86/100\n",
            "240/240 [==============================] - 1s 3ms/step - loss: 0.0591\n",
            "Epoch 87/100\n",
            "240/240 [==============================] - 1s 3ms/step - loss: 0.0593\n",
            "Epoch 88/100\n",
            "240/240 [==============================] - 1s 3ms/step - loss: 0.0591\n",
            "Epoch 89/100\n",
            "240/240 [==============================] - 1s 3ms/step - loss: 0.0591\n",
            "Epoch 90/100\n",
            "240/240 [==============================] - 1s 3ms/step - loss: 0.0590\n",
            "Epoch 91/100\n",
            "240/240 [==============================] - 1s 3ms/step - loss: 0.0592\n",
            "Epoch 92/100\n",
            "240/240 [==============================] - 1s 3ms/step - loss: 0.0594\n",
            "Epoch 93/100\n",
            "240/240 [==============================] - 1s 3ms/step - loss: 0.0592\n",
            "Epoch 94/100\n",
            "240/240 [==============================] - 1s 3ms/step - loss: 0.0590\n",
            "Epoch 95/100\n",
            "240/240 [==============================] - 1s 3ms/step - loss: 0.0590\n",
            "Epoch 96/100\n",
            "240/240 [==============================] - 1s 3ms/step - loss: 0.0589\n",
            "Epoch 97/100\n",
            "240/240 [==============================] - 1s 3ms/step - loss: 0.0591\n",
            "Epoch 98/100\n",
            "240/240 [==============================] - 1s 3ms/step - loss: 0.0589\n",
            "Epoch 99/100\n",
            "240/240 [==============================] - 1s 3ms/step - loss: 0.0594\n",
            "Epoch 100/100\n",
            "240/240 [==============================] - 1s 3ms/step - loss: 0.0594\n"
          ]
        },
        {
          "data": {
            "text/plain": [
              "<tf_keras.src.callbacks.History at 0x1dc9e44cd10>"
            ]
          },
          "execution_count": 17,
          "metadata": {},
          "output_type": "execute_result"
        }
      ],
      "source": [
        "ann.fit(X_train, y_train, batch_size=32, epochs=100)"
      ]
    },
    {
      "cell_type": "markdown",
      "metadata": {
        "colab_type": "text",
        "id": "0H0zKKNEBLD5"
      },
      "source": [
        "### Predicting the results of the Test set"
      ]
    },
    {
      "cell_type": "code",
      "execution_count": 21,
      "metadata": {},
      "outputs": [
        {
          "name": "stdout",
          "output_type": "stream",
          "text": [
            "60/60 [==============================] - 0s 2ms/step\n"
          ]
        }
      ],
      "source": [
        "y_pred = ann.predict(X_test)"
      ]
    },
    {
      "cell_type": "code",
      "execution_count": 24,
      "metadata": {},
      "outputs": [
        {
          "data": {
            "text/plain": [
              "array([[456.88345],\n",
              "       [438.64728],\n",
              "       [434.02847],\n",
              "       ...,\n",
              "       [483.38605],\n",
              "       [435.1073 ],\n",
              "       [456.40646]], dtype=float32)"
            ]
          },
          "execution_count": 24,
          "metadata": {},
          "output_type": "execute_result"
        }
      ],
      "source": [
        "sc2.inverse_transform(y_pred)"
      ]
    },
    {
      "cell_type": "code",
      "execution_count": 25,
      "metadata": {},
      "outputs": [
        {
          "name": "stdout",
          "output_type": "stream",
          "text": [
            "[[456.88345337 455.27      ]\n",
            " [438.64727783 436.31      ]\n",
            " [434.0284729  440.68      ]\n",
            " ...\n",
            " [483.38604736 479.53      ]\n",
            " [435.1072998  435.76      ]\n",
            " [456.40646362 457.1       ]]\n"
          ]
        }
      ],
      "source": [
        "np.set_printoptions = 2\n",
        "print(np.concatenate((sc2.inverse_transform(y_pred.reshape(len(y_pred),1)), sc2.inverse_transform(y_test.reshape(len(y_test),1))),1))"
      ]
    },
    {
      "cell_type": "markdown",
      "metadata": {},
      "source": [
        "## Printing the accuracy"
      ]
    },
    {
      "cell_type": "code",
      "execution_count": 26,
      "metadata": {},
      "outputs": [
        {
          "name": "stdout",
          "output_type": "stream",
          "text": [
            "0.9396155479406542\n"
          ]
        }
      ],
      "source": [
        "from sklearn.metrics import r2_score\n",
        "print(r2_score(sc2.inverse_transform(y_pred),sc2.inverse_transform(y_test)))"
      ]
    }
  ],
  "metadata": {
    "colab": {
      "collapsed_sections": [],
      "name": "Artificial Neural Network",
      "provenance": [],
      "toc_visible": true
    },
    "kernelspec": {
      "display_name": "Python 3",
      "name": "python3"
    },
    "language_info": {
      "codemirror_mode": {
        "name": "ipython",
        "version": 3
      },
      "file_extension": ".py",
      "mimetype": "text/x-python",
      "name": "python",
      "nbconvert_exporter": "python",
      "pygments_lexer": "ipython3",
      "version": "3.11.4"
    }
  },
  "nbformat": 4,
  "nbformat_minor": 0
}
