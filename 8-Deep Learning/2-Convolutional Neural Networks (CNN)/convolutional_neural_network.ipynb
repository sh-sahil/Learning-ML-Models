{
 "cells": [
  {
   "cell_type": "markdown",
   "metadata": {
    "colab_type": "text",
    "id": "3DR-eO17geWu"
   },
   "source": [
    "# Convolutional Neural Network"
   ]
  },
  {
   "cell_type": "markdown",
   "metadata": {
    "colab_type": "text",
    "id": "EMefrVPCg-60"
   },
   "source": [
    "### Importing the libraries"
   ]
  },
  {
   "cell_type": "code",
   "execution_count": 1,
   "metadata": {},
   "outputs": [
    {
     "name": "stdout",
     "output_type": "stream",
     "text": [
      "WARNING:tensorflow:From C:\\Users\\sahil\\AppData\\Roaming\\Python\\Python311\\site-packages\\tf_keras\\src\\losses.py:2976: The name tf.losses.sparse_softmax_cross_entropy is deprecated. Please use tf.compat.v1.losses.sparse_softmax_cross_entropy instead.\n",
      "\n"
     ]
    }
   ],
   "source": [
    "import tensorflow as tf\n",
    "from keras.preprocessing import image_dataset_from_directory"
   ]
  },
  {
   "cell_type": "code",
   "execution_count": 2,
   "metadata": {},
   "outputs": [
    {
     "data": {
      "text/plain": [
       "'2.16.1'"
      ]
     },
     "execution_count": 2,
     "metadata": {},
     "output_type": "execute_result"
    }
   ],
   "source": [
    "tf.__version__"
   ]
  },
  {
   "cell_type": "markdown",
   "metadata": {
    "colab_type": "text",
    "id": "oxQxCBWyoGPE"
   },
   "source": [
    "## Part 1 - Data Preprocessing"
   ]
  },
  {
   "cell_type": "markdown",
   "metadata": {
    "colab_type": "text",
    "id": "MvE-heJNo3GG"
   },
   "source": [
    "### Preprocessing the Training set"
   ]
  },
  {
   "cell_type": "code",
   "execution_count": 3,
   "metadata": {},
   "outputs": [
    {
     "name": "stdout",
     "output_type": "stream",
     "text": [
      "Found 8000 files belonging to 2 classes.\n",
      "WARNING:tensorflow:From C:\\Users\\sahil\\AppData\\Roaming\\Python\\Python311\\site-packages\\tf_keras\\src\\backend.py:873: The name tf.get_default_graph is deprecated. Please use tf.compat.v1.get_default_graph instead.\n",
      "\n"
     ]
    }
   ],
   "source": [
    "training_data = image_dataset_from_directory('dataset/training_set',\n",
    "                                             image_size=(64, 64),\n",
    "                                             batch_size=32,\n",
    "                                             label_mode='binary')\n",
    "\n",
    "train_datagen = tf.keras.Sequential([\n",
    "    tf.keras.layers.experimental.preprocessing.Rescaling(1./255),\n",
    "    tf.keras.layers.experimental.preprocessing.RandomFlip(\"horizontal\"),\n",
    "    tf.keras.layers.experimental.preprocessing.RandomZoom(0.2),\n",
    "    tf.keras.layers.experimental.preprocessing.RandomTranslation(0.2, 0.2)\n",
    "])\n",
    "\n",
    "train_set = training_data.map(\n",
    "    lambda x, y: (train_datagen(x, training=True), y)\n",
    ")\n",
    "#train_set = train_set.prefetch(buffer_size=tf.data.experimental.AUTOTUNE)\n"
   ]
  },
  {
   "cell_type": "markdown",
   "metadata": {
    "colab_type": "text",
    "id": "mrCMmGw9pHys"
   },
   "source": [
    "### Preprocessing the Test set"
   ]
  },
  {
   "cell_type": "code",
   "execution_count": 4,
   "metadata": {},
   "outputs": [
    {
     "name": "stdout",
     "output_type": "stream",
     "text": [
      "Found 2000 files belonging to 2 classes.\n"
     ]
    }
   ],
   "source": [
    "test_data = image_dataset_from_directory('dataset/test_set',\n",
    "                                             image_size=(64, 64),  # Size to which all images will be resized\n",
    "                                             batch_size=32,\n",
    "                                             label_mode='binary')\n",
    "\n",
    "test_datagen = tf.keras.Sequential([\n",
    "    tf.keras.layers.experimental.preprocessing.Rescaling(1./255)\n",
    "])\n",
    "\n",
    "test_set = test_data.map(\n",
    "    lambda x,y: (test_datagen(x, training= False), y)\n",
    ")\n",
    "\n",
    "#test_set = test_set.prefetch(buffer_size=tf.data.experimental.AUTOTUNE)"
   ]
  },
  {
   "cell_type": "markdown",
   "metadata": {
    "colab_type": "text",
    "id": "af8O4l90gk7B"
   },
   "source": [
    "## Part 2 - Building the CNN"
   ]
  },
  {
   "cell_type": "markdown",
   "metadata": {
    "colab_type": "text",
    "id": "ces1gXY2lmoX"
   },
   "source": [
    "### Initialising the CNN"
   ]
  },
  {
   "cell_type": "code",
   "execution_count": 5,
   "metadata": {},
   "outputs": [],
   "source": [
    "cnn = tf.keras.models.Sequential()"
   ]
  },
  {
   "cell_type": "markdown",
   "metadata": {
    "colab_type": "text",
    "id": "u5YJj_XMl5LF"
   },
   "source": [
    "### Step 1 - Convolution"
   ]
  },
  {
   "cell_type": "code",
   "execution_count": 6,
   "metadata": {},
   "outputs": [],
   "source": [
    "cnn.add(tf.keras.layers.Conv2D(filters=32, kernel_size = 3, activation='relu', input_shape = [64,64,3]))"
   ]
  },
  {
   "cell_type": "markdown",
   "metadata": {
    "colab_type": "text",
    "id": "tf87FpvxmNOJ"
   },
   "source": [
    "### Step 2 - Pooling"
   ]
  },
  {
   "cell_type": "code",
   "execution_count": 7,
   "metadata": {},
   "outputs": [
    {
     "name": "stdout",
     "output_type": "stream",
     "text": [
      "WARNING:tensorflow:From C:\\Users\\sahil\\AppData\\Roaming\\Python\\Python311\\site-packages\\tf_keras\\src\\layers\\pooling\\max_pooling2d.py:161: The name tf.nn.max_pool is deprecated. Please use tf.nn.max_pool2d instead.\n",
      "\n"
     ]
    }
   ],
   "source": [
    "cnn.add(tf.keras.layers.MaxPool2D(pool_size = 2, strides = 2))"
   ]
  },
  {
   "cell_type": "markdown",
   "metadata": {
    "colab_type": "text",
    "id": "xaTOgD8rm4mU"
   },
   "source": [
    "### Adding a second convolutional layer"
   ]
  },
  {
   "cell_type": "code",
   "execution_count": 8,
   "metadata": {},
   "outputs": [],
   "source": [
    "cnn.add(tf.keras.layers.Conv2D(filters=32, kernel_size = 3, activation='relu'))\n",
    "cnn.add(tf.keras.layers.MaxPool2D(pool_size = 2, strides = 2))"
   ]
  },
  {
   "cell_type": "markdown",
   "metadata": {
    "colab_type": "text",
    "id": "tmiEuvTunKfk"
   },
   "source": [
    "### Step 3 - Flattening"
   ]
  },
  {
   "cell_type": "code",
   "execution_count": 9,
   "metadata": {},
   "outputs": [],
   "source": [
    "cnn.add(tf.keras.layers.Flatten())"
   ]
  },
  {
   "cell_type": "markdown",
   "metadata": {
    "colab_type": "text",
    "id": "dAoSECOm203v"
   },
   "source": [
    "### Step 4 - Full Connection"
   ]
  },
  {
   "cell_type": "code",
   "execution_count": 10,
   "metadata": {},
   "outputs": [],
   "source": [
    "cnn.add(tf.keras.layers.Dense(units = 128, activation='relu'))"
   ]
  },
  {
   "cell_type": "markdown",
   "metadata": {
    "colab_type": "text",
    "id": "yTldFvbX28Na"
   },
   "source": [
    "### Step 5 - Output Layer"
   ]
  },
  {
   "cell_type": "code",
   "execution_count": 11,
   "metadata": {},
   "outputs": [],
   "source": [
    "cnn.add(tf.keras.layers.Dense(units = 1, activation='sigmoid'))"
   ]
  },
  {
   "cell_type": "markdown",
   "metadata": {
    "colab_type": "text",
    "id": "D6XkI90snSDl"
   },
   "source": [
    "## Part 3 - Training the CNN"
   ]
  },
  {
   "cell_type": "markdown",
   "metadata": {
    "colab_type": "text",
    "id": "vfrFQACEnc6i"
   },
   "source": [
    "### Compiling the CNN"
   ]
  },
  {
   "cell_type": "code",
   "execution_count": 12,
   "metadata": {},
   "outputs": [
    {
     "name": "stdout",
     "output_type": "stream",
     "text": [
      "WARNING:tensorflow:From C:\\Users\\sahil\\AppData\\Roaming\\Python\\Python311\\site-packages\\tf_keras\\src\\optimizers\\__init__.py:317: The name tf.train.Optimizer is deprecated. Please use tf.compat.v1.train.Optimizer instead.\n",
      "\n"
     ]
    }
   ],
   "source": [
    "cnn.compile(optimizer = 'adam', loss = 'binary_crossentropy', metrics=['accuracy'])"
   ]
  },
  {
   "cell_type": "markdown",
   "metadata": {
    "colab_type": "text",
    "id": "ehS-v3MIpX2h"
   },
   "source": [
    "### Training the CNN on the Training set and evaluating it on the Test set"
   ]
  },
  {
   "cell_type": "code",
   "execution_count": 13,
   "metadata": {},
   "outputs": [
    {
     "name": "stdout",
     "output_type": "stream",
     "text": [
      "Epoch 1/25\n",
      "WARNING:tensorflow:From C:\\Users\\sahil\\AppData\\Roaming\\Python\\Python311\\site-packages\\tensorflow\\python\\autograph\\converters\\directives.py:126: The name tf.ragged.RaggedTensorValue is deprecated. Please use tf.compat.v1.ragged.RaggedTensorValue instead.\n",
      "\n",
      "WARNING:tensorflow:From C:\\Users\\sahil\\AppData\\Roaming\\Python\\Python311\\site-packages\\tf_keras\\src\\engine\\base_layer_utils.py:384: The name tf.executing_eagerly_outside_functions is deprecated. Please use tf.compat.v1.executing_eagerly_outside_functions instead.\n",
      "\n",
      "250/250 [==============================] - 35s 79ms/step - loss: 0.6879 - accuracy: 0.5493 - val_loss: 0.6676 - val_accuracy: 0.6045\n",
      "Epoch 2/25\n",
      "250/250 [==============================] - 19s 74ms/step - loss: 0.6463 - accuracy: 0.6181 - val_loss: 0.5944 - val_accuracy: 0.6850\n",
      "Epoch 3/25\n",
      "250/250 [==============================] - 19s 74ms/step - loss: 0.6131 - accuracy: 0.6600 - val_loss: 0.5972 - val_accuracy: 0.6845\n",
      "Epoch 4/25\n",
      "250/250 [==============================] - 19s 75ms/step - loss: 0.5998 - accuracy: 0.6745 - val_loss: 0.6020 - val_accuracy: 0.6695\n",
      "Epoch 5/25\n",
      "250/250 [==============================] - 19s 74ms/step - loss: 0.5857 - accuracy: 0.6851 - val_loss: 0.5360 - val_accuracy: 0.7270\n",
      "Epoch 6/25\n",
      "250/250 [==============================] - 19s 76ms/step - loss: 0.5698 - accuracy: 0.7003 - val_loss: 0.5370 - val_accuracy: 0.7280\n",
      "Epoch 7/25\n",
      "250/250 [==============================] - 19s 75ms/step - loss: 0.5569 - accuracy: 0.7151 - val_loss: 0.5109 - val_accuracy: 0.7425\n",
      "Epoch 8/25\n",
      "250/250 [==============================] - 19s 74ms/step - loss: 0.5469 - accuracy: 0.7232 - val_loss: 0.5133 - val_accuracy: 0.7440\n",
      "Epoch 9/25\n",
      "250/250 [==============================] - 19s 74ms/step - loss: 0.5447 - accuracy: 0.7228 - val_loss: 0.4880 - val_accuracy: 0.7675\n",
      "Epoch 10/25\n",
      "250/250 [==============================] - 19s 76ms/step - loss: 0.5316 - accuracy: 0.7361 - val_loss: 0.5090 - val_accuracy: 0.7480\n",
      "Epoch 11/25\n",
      "250/250 [==============================] - 19s 76ms/step - loss: 0.5285 - accuracy: 0.7390 - val_loss: 0.4854 - val_accuracy: 0.7635\n",
      "Epoch 12/25\n",
      "250/250 [==============================] - 19s 74ms/step - loss: 0.5163 - accuracy: 0.7410 - val_loss: 0.5201 - val_accuracy: 0.7450\n",
      "Epoch 13/25\n",
      "250/250 [==============================] - 19s 76ms/step - loss: 0.5138 - accuracy: 0.7449 - val_loss: 0.4550 - val_accuracy: 0.7915\n",
      "Epoch 14/25\n",
      "250/250 [==============================] - 19s 75ms/step - loss: 0.5054 - accuracy: 0.7462 - val_loss: 0.6121 - val_accuracy: 0.6935\n",
      "Epoch 15/25\n",
      "250/250 [==============================] - 19s 76ms/step - loss: 0.4982 - accuracy: 0.7575 - val_loss: 0.4522 - val_accuracy: 0.7940\n",
      "Epoch 16/25\n",
      "250/250 [==============================] - 19s 74ms/step - loss: 0.5026 - accuracy: 0.7565 - val_loss: 0.4492 - val_accuracy: 0.8015\n",
      "Epoch 17/25\n",
      "250/250 [==============================] - 19s 75ms/step - loss: 0.4896 - accuracy: 0.7625 - val_loss: 0.4480 - val_accuracy: 0.7875\n",
      "Epoch 18/25\n",
      "250/250 [==============================] - 19s 74ms/step - loss: 0.4805 - accuracy: 0.7673 - val_loss: 0.4783 - val_accuracy: 0.7775\n",
      "Epoch 19/25\n",
      "250/250 [==============================] - 18s 74ms/step - loss: 0.4848 - accuracy: 0.7675 - val_loss: 0.4476 - val_accuracy: 0.7840\n",
      "Epoch 20/25\n",
      "250/250 [==============================] - 19s 75ms/step - loss: 0.4812 - accuracy: 0.7676 - val_loss: 0.4399 - val_accuracy: 0.8010\n",
      "Epoch 21/25\n",
      "250/250 [==============================] - 19s 74ms/step - loss: 0.4689 - accuracy: 0.7731 - val_loss: 0.4388 - val_accuracy: 0.7920\n",
      "Epoch 22/25\n",
      "250/250 [==============================] - 19s 75ms/step - loss: 0.4710 - accuracy: 0.7720 - val_loss: 0.4295 - val_accuracy: 0.8055\n",
      "Epoch 23/25\n",
      "250/250 [==============================] - 19s 74ms/step - loss: 0.4573 - accuracy: 0.7807 - val_loss: 0.4557 - val_accuracy: 0.7980\n",
      "Epoch 24/25\n",
      "250/250 [==============================] - 19s 74ms/step - loss: 0.4550 - accuracy: 0.7890 - val_loss: 0.4378 - val_accuracy: 0.8075\n",
      "Epoch 25/25\n",
      "250/250 [==============================] - 19s 74ms/step - loss: 0.4524 - accuracy: 0.7864 - val_loss: 0.4289 - val_accuracy: 0.8060\n"
     ]
    },
    {
     "data": {
      "text/plain": [
       "<tf_keras.src.callbacks.History at 0x144e76dfb10>"
      ]
     },
     "execution_count": 13,
     "metadata": {},
     "output_type": "execute_result"
    }
   ],
   "source": [
    "cnn.fit(x = train_set, validation_data = test_set, epochs = 25)"
   ]
  },
  {
   "cell_type": "markdown",
   "metadata": {
    "colab_type": "text",
    "id": "U3PZasO0006Z"
   },
   "source": [
    "## Part 4 - Making a single prediction"
   ]
  },
  {
   "cell_type": "markdown",
   "metadata": {},
   "source": [
    "### Printing the clases"
   ]
  },
  {
   "cell_type": "code",
   "execution_count": 14,
   "metadata": {},
   "outputs": [
    {
     "name": "stdout",
     "output_type": "stream",
     "text": [
      "['cats', 'dogs']\n"
     ]
    }
   ],
   "source": [
    "classes_indices = training_data.class_names\n",
    "print(classes_indices)"
   ]
  },
  {
   "cell_type": "code",
   "execution_count": 15,
   "metadata": {},
   "outputs": [],
   "source": [
    "import numpy as np\n",
    "from keras.preprocessing import image"
   ]
  },
  {
   "cell_type": "code",
   "execution_count": 18,
   "metadata": {},
   "outputs": [
    {
     "name": "stdout",
     "output_type": "stream",
     "text": [
      "1/1 [==============================] - 0s 43ms/step\n",
      "[[1.]]\n",
      "dog\n",
      "1/1 [==============================] - 0s 39ms/step\n",
      "[[1.]]\n",
      "dog\n",
      "1/1 [==============================] - 0s 39ms/step\n",
      "[[0.]]\n",
      "cat\n",
      "1/1 [==============================] - 0s 36ms/step\n",
      "[[1.]]\n",
      "dog\n"
     ]
    }
   ],
   "source": [
    "for i in range(1,5):\n",
    "    test_image = image.load_img(f\"dataset/single_prediction/cat_or_dog_{i}.jpg\", target_size = (64, 64))\n",
    "    test_image = image.img_to_array(test_image)\n",
    "    test_image = np.expand_dims(test_image, axis = 0)\n",
    "    result = cnn.predict(test_image)\n",
    "    print(result)\n",
    "    if result[0][0] == 1:\n",
    "        prediction = 'dog'\n",
    "    else:\n",
    "        prediction = 'cat'\n",
    "    print(prediction)"
   ]
  },
  {
   "cell_type": "code",
   "execution_count": 17,
   "metadata": {},
   "outputs": [
    {
     "name": "stderr",
     "output_type": "stream",
     "text": [
      "C:\\Users\\sahil\\AppData\\Roaming\\Python\\Python311\\site-packages\\tf_keras\\src\\engine\\training.py:3098: UserWarning: You are saving your model as an HDF5 file via `model.save()`. This file format is considered legacy. We recommend using instead the native TF-Keras format, e.g. `model.save('my_model.keras')`.\n",
      "  saving_api.save_model(\n"
     ]
    }
   ],
   "source": [
    "cnn.save('cat_or_dog_model.h5')"
   ]
  },
  {
   "cell_type": "code",
   "execution_count": 19,
   "metadata": {},
   "outputs": [
    {
     "name": "stdout",
     "output_type": "stream",
     "text": [
      "INFO:tensorflow:Assets written to: my_model\\assets\n"
     ]
    },
    {
     "name": "stderr",
     "output_type": "stream",
     "text": [
      "INFO:tensorflow:Assets written to: my_model\\assets\n"
     ]
    }
   ],
   "source": [
    "# Save the model in the TensorFlow SavedModel format\n",
    "cnn.save('my_model')"
   ]
  },
  {
   "cell_type": "code",
   "execution_count": null,
   "metadata": {},
   "outputs": [],
   "source": []
  }
 ],
 "metadata": {
  "colab": {
   "collapsed_sections": [],
   "name": "convolutional_neural_network.ipynb",
   "provenance": [],
   "toc_visible": true
  },
  "kernelspec": {
   "display_name": "Python 3 (ipykernel)",
   "language": "python",
   "name": "python3"
  },
  "language_info": {
   "codemirror_mode": {
    "name": "ipython",
    "version": 3
   },
   "file_extension": ".py",
   "mimetype": "text/x-python",
   "name": "python",
   "nbconvert_exporter": "python",
   "pygments_lexer": "ipython3",
   "version": "3.11.4"
  }
 },
 "nbformat": 4,
 "nbformat_minor": 4
}
